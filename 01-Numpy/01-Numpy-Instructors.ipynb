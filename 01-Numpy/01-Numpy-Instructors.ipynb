{
 "cells": [
  {
   "cell_type": "markdown",
   "metadata": {},
   "source": [
    "# Python and Numpy"
   ]
  },
  {
   "cell_type": "markdown",
   "metadata": {},
   "source": [
    "## Useful Links\n",
    "\n",
    "1. [NumPy Quickstart Guide](https://docs.scipy.org/doc/numpy-dev/user/quickstart.html)\n",
    "1. [NumPy Documentation](http://docs.scipy.org/doc/numpy/)\n",
    "1. [Astropy Units Documentation](http://docs.astropy.org/en/stable/units/index.html)\n",
    "1. [Introduction to Units in SunPy](http://docs.sunpy.org/en/stable/guide/tour.html#quantities-and-units)\n",
    "1. [Scipy Lecture Notes](http://www.scipy-lectures.org/)"
   ]
  },
  {
   "cell_type": "markdown",
   "metadata": {},
   "source": [
    "## Libraries and namespaces"
   ]
  },
  {
   "cell_type": "markdown",
   "metadata": {},
   "source": [
    "Core Python can do relatively little. Fortunately though, there are many Python libraries that can add to its functionality. For now the one we'll be focusing on is __NumPy__, which contains definitions for a lot of commonly used mathematical functions and constants. NumPy can be imported like this:"
   ]
  },
  {
   "cell_type": "code",
   "execution_count": 1,
   "metadata": {},
   "outputs": [],
   "source": [
    "import numpy"
   ]
  },
  {
   "cell_type": "markdown",
   "metadata": {},
   "source": [
    "and the variables it contains can be referenced like this:"
   ]
  },
  {
   "cell_type": "code",
   "execution_count": 2,
   "metadata": {},
   "outputs": [
    {
     "name": "stdout",
     "output_type": "stream",
     "text": [
      "1.0\n"
     ]
    }
   ],
   "source": [
    "print(numpy.cos(0))"
   ]
  },
  {
   "cell_type": "markdown",
   "metadata": {},
   "source": [
    "Notice the __numpy.__ in the above example. Without this, NumPy's variables are not accessible:"
   ]
  },
  {
   "cell_type": "code",
   "execution_count": 3,
   "metadata": {},
   "outputs": [
    {
     "ename": "NameError",
     "evalue": "name 'cos' is not defined",
     "output_type": "error",
     "traceback": [
      "\u001b[0;31m---------------------------------------------------------------------------\u001b[0m",
      "\u001b[0;31mNameError\u001b[0m                                 Traceback (most recent call last)",
      "\u001b[0;32m<ipython-input-3-2950deeaa760>\u001b[0m in \u001b[0;36m<module>\u001b[0;34m\u001b[0m\n\u001b[0;32m----> 1\u001b[0;31m \u001b[0mprint\u001b[0m\u001b[0;34m(\u001b[0m\u001b[0mcos\u001b[0m\u001b[0;34m(\u001b[0m\u001b[0;36m0\u001b[0m\u001b[0;34m)\u001b[0m\u001b[0;34m)\u001b[0m\u001b[0;34m\u001b[0m\u001b[0;34m\u001b[0m\u001b[0m\n\u001b[0m",
      "\u001b[0;31mNameError\u001b[0m: name 'cos' is not defined"
     ]
    }
   ],
   "source": [
    "print(cos(0))"
   ]
  },
  {
   "cell_type": "markdown",
   "metadata": {},
   "source": [
    "This is because Python groups variables into _namespaces_. The NumPy library has its own namespace which contains all the variables it defines. This namespace is separate from the namespace you're currently working in, which contains a single user-defined variable, `numpy` (and also some built-in variables)."
   ]
  },
  {
   "cell_type": "markdown",
   "metadata": {},
   "source": [
    "As well as importing an entire library, you can import individual variables into the current namespace. Then you can reference these variables without going through `numpy`."
   ]
  },
  {
   "cell_type": "code",
   "execution_count": 4,
   "metadata": {},
   "outputs": [
    {
     "name": "stdout",
     "output_type": "stream",
     "text": [
      "0.0 1.0\n"
     ]
    }
   ],
   "source": [
    "from numpy import cos, sin\n",
    "print(sin(0), cos(0))"
   ]
  },
  {
   "cell_type": "markdown",
   "metadata": {},
   "source": [
    "The `import` statement also lets you rename a library when you import it. You'll usually see numpy imported and used like this, and this is how we'll be using it throughout this course:"
   ]
  },
  {
   "cell_type": "code",
   "execution_count": 5,
   "metadata": {},
   "outputs": [
    {
     "name": "stdout",
     "output_type": "stream",
     "text": [
      "1.0\n"
     ]
    }
   ],
   "source": [
    "import numpy as np\n",
    "print(np.cos(0))"
   ]
  },
  {
   "cell_type": "markdown",
   "metadata": {},
   "source": [
    "## Arrays"
   ]
  },
  {
   "cell_type": "markdown",
   "metadata": {},
   "source": [
    "Core Python has no concept of arrays as such, but NumPy does. First though, it's useful to look at _lists_, which are the closest basic Python equivalent to an array. Lists are defined like this:"
   ]
  },
  {
   "cell_type": "code",
   "execution_count": 6,
   "metadata": {},
   "outputs": [
    {
     "name": "stdout",
     "output_type": "stream",
     "text": [
      "[1, 2, 5]\n"
     ]
    }
   ],
   "source": [
    "mylist = [1, 2, 5]\n",
    "print(mylist)"
   ]
  },
  {
   "cell_type": "markdown",
   "metadata": {},
   "source": [
    "Lists (and arrays, and all other types of sequence) are indexed using square brackets, and indices start at 0."
   ]
  },
  {
   "cell_type": "code",
   "execution_count": 7,
   "metadata": {},
   "outputs": [
    {
     "name": "stdout",
     "output_type": "stream",
     "text": [
      "1 5\n"
     ]
    },
    {
     "ename": "IndexError",
     "evalue": "list index out of range",
     "output_type": "error",
     "traceback": [
      "\u001b[0;31m---------------------------------------------------------------------------\u001b[0m",
      "\u001b[0;31mIndexError\u001b[0m                                Traceback (most recent call last)",
      "\u001b[0;32m<ipython-input-7-a2c204834edc>\u001b[0m in \u001b[0;36m<module>\u001b[0;34m\u001b[0m\n\u001b[1;32m      3\u001b[0m \u001b[0;34m\u001b[0m\u001b[0m\n\u001b[1;32m      4\u001b[0m \u001b[0;31m# Print an item that doesn't exist\u001b[0m\u001b[0;34m\u001b[0m\u001b[0;34m\u001b[0m\u001b[0;34m\u001b[0m\u001b[0m\n\u001b[0;32m----> 5\u001b[0;31m \u001b[0mprint\u001b[0m\u001b[0;34m(\u001b[0m\u001b[0mmylist\u001b[0m\u001b[0;34m[\u001b[0m\u001b[0;36m6\u001b[0m\u001b[0;34m]\u001b[0m\u001b[0;34m)\u001b[0m\u001b[0;34m\u001b[0m\u001b[0;34m\u001b[0m\u001b[0m\n\u001b[0m",
      "\u001b[0;31mIndexError\u001b[0m: list index out of range"
     ]
    }
   ],
   "source": [
    "# Print the first and third items in the list\n",
    "print(mylist[0], mylist[2])\n",
    "\n",
    "# Print an item that doesn't exist\n",
    "print(mylist[6])"
   ]
  },
  {
   "cell_type": "markdown",
   "metadata": {},
   "source": [
    "You can convert a list into a NumPy array using the `array()` function in NumPy:"
   ]
  },
  {
   "cell_type": "code",
   "execution_count": 8,
   "metadata": {},
   "outputs": [
    {
     "name": "stdout",
     "output_type": "stream",
     "text": [
      "[1 2 5]\n"
     ]
    }
   ],
   "source": [
    "myarr = np.array(mylist)\n",
    "print(myarr)"
   ]
  },
  {
   "cell_type": "markdown",
   "metadata": {},
   "source": [
    "There are also NumPy functions for quickly generating larger arrays. The `arange()` function makes an array containing a sequence of numbers and can be used in several ways:\n",
    "- if given a single value, the sequence starts at 0, stops at the given value and goes in steps of 1\n",
    "- if given two values, the sequence goes from the first to the second in steps of 1\n",
    "- if given three values, the sequence goes from the first to the second in steps of the third"
   ]
  },
  {
   "cell_type": "code",
   "execution_count": 9,
   "metadata": {},
   "outputs": [
    {
     "name": "stdout",
     "output_type": "stream",
     "text": [
      "[0. 1. 2. 3. 4. 5. 6. 7. 8. 9.]\n",
      "[3. 4. 5. 6. 7. 8. 9.]\n",
      "[3.  3.8 4.6 5.4 6.2 7.  7.8 8.6 9.4]\n"
     ]
    }
   ],
   "source": [
    "# Make an array of numbers between 0 and 10\n",
    "print(np.arange(10.0))\n",
    "\n",
    "# Make an array of numbers between 3 and 10\n",
    "print(np.arange(3.0, 10.0))\n",
    "\n",
    "# Make an array of numbers between 3 and 10 in steps of 0.8\n",
    "print(np.arange(3.0, 10.0, 0.8))"
   ]
  },
  {
   "cell_type": "markdown",
   "metadata": {},
   "source": [
    "Notice that the values in the sequence are not inclusive of the given end value.\n",
    "\n",
    "Alternatively, you can make an empty array using the `zeros()` function, which takes a single argument corresponding to the shape of the array."
   ]
  },
  {
   "cell_type": "code",
   "execution_count": 10,
   "metadata": {},
   "outputs": [
    {
     "name": "stdout",
     "output_type": "stream",
     "text": [
      "[0. 0. 0. 0. 0. 0. 0.]\n",
      "[[0. 0. 0.]\n",
      " [0. 0. 0.]\n",
      " [0. 0. 0.]\n",
      " [0. 0. 0.]\n",
      " [0. 0. 0.]\n",
      " [0. 0. 0.]\n",
      " [0. 0. 0.]]\n"
     ]
    }
   ],
   "source": [
    "# Make a 7-elements long array of nothing\n",
    "print(np.zeros(7))\n",
    "\n",
    "# Make a 2D array of nothing\n",
    "print(np.zeros((7, 3)))"
   ]
  },
  {
   "cell_type": "markdown",
   "metadata": {},
   "source": [
    "Notice the extra brackets in the second command, since we are grouping together the values as a single argument to the function."
   ]
  },
  {
   "cell_type": "markdown",
   "metadata": {},
   "source": [
    "### Functions on arrays"
   ]
  },
  {
   "cell_type": "markdown",
   "metadata": {},
   "source": [
    "Many functions can be performed on every element in an array at once. These functions take the array as input and return an array of the same size. The `sin()` and `cos()` functions are good examples of this.\n",
    "\n",
    "Note: `sin()` and `cos()` take their input in radians."
   ]
  },
  {
   "cell_type": "code",
   "execution_count": 11,
   "metadata": {},
   "outputs": [
    {
     "name": "stdout",
     "output_type": "stream",
     "text": [
      "[0.         0.17364818 0.34202014 0.5        0.64278761 0.76604444\n",
      " 0.8660254  0.93969262 0.98480775 1.         0.98480775 0.93969262\n",
      " 0.8660254  0.76604444 0.64278761 0.5        0.34202014 0.17364818]\n"
     ]
    }
   ],
   "source": [
    "myarr = np.arange(0, 180, 10) * (np.pi / 180)\n",
    "print(np.sin(myarr))"
   ]
  },
  {
   "cell_type": "markdown",
   "metadata": {},
   "source": [
    "There are also plenty of functions that calculate and return single values from an array input. For instance, the `np.min()`, `np.mean()` and `np.max()` functions do pretty much what you would expect:"
   ]
  },
  {
   "cell_type": "code",
   "execution_count": 12,
   "metadata": {},
   "outputs": [
    {
     "name": "stdout",
     "output_type": "stream",
     "text": [
      "0.0 1.48352986419518 2.9670597283903604\n"
     ]
    }
   ],
   "source": [
    "print(np.min(myarr), np.mean(myarr), np.max(myarr))"
   ]
  },
  {
   "cell_type": "markdown",
   "metadata": {},
   "source": [
    "## Methods and attributes"
   ]
  },
  {
   "cell_type": "markdown",
   "metadata": {},
   "source": [
    "Some Python variables, including NumPy arrays, have their own namespaces which contain functions and variables that relate to that variable. In this context these are called _methods_ and attributes, respectively. These are accessed in the same way as variables in libraries, with the syntax `variable.method()` or `variable.attribute`.\n",
    "\n",
    "Many of the methods associated with NumPy arrays reproduce the functionality of external functions, such as the `array.min()`, `array.mean()` and `array.max()` methods, which are equivalent to the functions used above:"
   ]
  },
  {
   "cell_type": "code",
   "execution_count": 13,
   "metadata": {},
   "outputs": [
    {
     "name": "stdout",
     "output_type": "stream",
     "text": [
      "0.0 1.48352986419518 2.9670597283903604\n"
     ]
    }
   ],
   "source": [
    "print(myarr.min(), myarr.mean(), myarr.max())"
   ]
  },
  {
   "cell_type": "markdown",
   "metadata": {},
   "source": [
    "Attributes usually contain useful information about the variable. For instance, the shape and size of a NumPy array are stored in the `array.shape` and `array.size` attributes."
   ]
  },
  {
   "cell_type": "code",
   "execution_count": 14,
   "metadata": {},
   "outputs": [
    {
     "name": "stdout",
     "output_type": "stream",
     "text": [
      "(6, 4) 24\n"
     ]
    }
   ],
   "source": [
    "myarr = np.zeros((6, 4))\n",
    "print(myarr.shape, myarr.size)"
   ]
  },
  {
   "cell_type": "markdown",
   "metadata": {},
   "source": [
    "## Slicing (quick)"
   ]
  },
  {
   "cell_type": "markdown",
   "metadata": {},
   "source": [
    "You can reference part of an array (_slice_ it) with a slightly expanded version of the syntax used to access individual elements."
   ]
  },
  {
   "cell_type": "code",
   "execution_count": 15,
   "metadata": {},
   "outputs": [
    {
     "name": "stdout",
     "output_type": "stream",
     "text": [
      "14\n",
      "[14 15 16 17 18 19 20 21 22 23]\n"
     ]
    }
   ],
   "source": [
    "myarr = np.arange(50)\n",
    "\n",
    "# Access just the 15th element of the array.\n",
    "print(myarr[14])\n",
    "\n",
    "# Access ten elements starting at the 15th\n",
    "print(myarr[14:24])"
   ]
  },
  {
   "cell_type": "markdown",
   "metadata": {},
   "source": [
    "Just like with the `arange()` function, note that the end index is not included. Also similarly to `arange()`, we can also include a `step` value to get only certain indices in the specified range:"
   ]
  },
  {
   "cell_type": "code",
   "execution_count": 16,
   "metadata": {},
   "outputs": [
    {
     "name": "stdout",
     "output_type": "stream",
     "text": [
      "[14 16 18 20 22]\n",
      "[24 22 20 18 16]\n"
     ]
    }
   ],
   "source": [
    "# Get every other element in the range used above.\n",
    "print(myarr[14:24:2])\n",
    "\n",
    "# You can also go backwards\n",
    "print(myarr[24:14:-2])"
   ]
  },
  {
   "cell_type": "markdown",
   "metadata": {},
   "source": [
    "## Astropy units - a super brief overview"
   ]
  },
  {
   "cell_type": "markdown",
   "metadata": {},
   "source": [
    "Another very useful Python package for solar physics is AstroPy. This provides lots very powerful features, but the one we will focus on now is the units package. This allows you to attach physical units to a value, and for Python to then sensibly interpret that value."
   ]
  },
  {
   "cell_type": "code",
   "execution_count": 17,
   "metadata": {},
   "outputs": [
    {
     "name": "stdout",
     "output_type": "stream",
     "text": [
      "1.3048 m\n",
      "[0.         0.17364818 0.34202014 0.5        0.64278761 0.76604444\n",
      " 0.8660254  0.93969262 0.98480775 1.         0.98480775 0.93969262\n",
      " 0.8660254  0.76604444 0.64278761 0.5        0.34202014 0.17364818]\n"
     ]
    }
   ],
   "source": [
    "import astropy.units as u\n",
    "\n",
    "x = 1 * u.m\n",
    "y = 1 * u.imperial.foot\n",
    "print(x + y)\n",
    "\n",
    "x = np.arange(0, 180, 10) * u.deg\n",
    "print(np.sin(x))"
   ]
  }
 ],
 "metadata": {
  "kernelspec": {
   "display_name": "Python 3",
   "language": "python",
   "name": "python3"
  },
  "language_info": {
   "codemirror_mode": {
    "name": "ipython",
    "version": 3
   },
   "file_extension": ".py",
   "mimetype": "text/x-python",
   "name": "python",
   "nbconvert_exporter": "python",
   "pygments_lexer": "ipython3",
   "version": "3.7.4"
  }
 },
 "nbformat": 4,
 "nbformat_minor": 4
}
